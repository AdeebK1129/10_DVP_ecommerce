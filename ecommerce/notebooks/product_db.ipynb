{
 "cells": [
  {
   "cell_type": "code",
   "execution_count": 2,
   "metadata": {},
   "outputs": [],
   "source": [
    "import django\n",
    "import os\n",
    "import requests\n",
    "import pandas as pd"
   ]
  },
  {
   "cell_type": "code",
   "execution_count": 3,
   "metadata": {},
   "outputs": [],
   "source": [
    "os.chdir(\"..\")\n",
    "os.environ.setdefault('DJANGO_SETTINGS_MODULE', 'ecommerce.settings')\n",
    "os.environ[\"DJANGO_ALLOW_ASYNC_UNSAFE\"] = \"true\"\n",
    "django.setup()"
   ]
  },
  {
   "cell_type": "code",
   "execution_count": 11,
   "metadata": {},
   "outputs": [],
   "source": [
    "from shop.models import Product"
   ]
  },
  {
   "cell_type": "code",
   "execution_count": 12,
   "metadata": {},
   "outputs": [],
   "source": [
    "response = requests.get('https://fakestoreapi.com/products')\n",
    "products_data = response.json()"
   ]
  },
  {
   "cell_type": "code",
   "execution_count": 13,
   "metadata": {},
   "outputs": [],
   "source": [
    "df_products = pd.DataFrame(products_data)"
   ]
  },
  {
   "cell_type": "code",
   "execution_count": 14,
   "metadata": {},
   "outputs": [],
   "source": [
    "df_products = df_products.rename(columns={\n",
    "    'id': 'id',\n",
    "    'title': 'title',\n",
    "    'price': 'price',\n",
    "    'category': 'category',\n",
    "    'description': 'description',\n",
    "    'image': 'image'\n",
    "})"
   ]
  },
  {
   "cell_type": "code",
   "execution_count": 15,
   "metadata": {},
   "outputs": [],
   "source": [
    "df_products.loc[df_products['id'] == 1, 'title'] = 'Replaced Dummy Product'\n",
    "df_products.loc[df_products['id'] == 1, 'price'] = 0.00\n",
    "df_products.loc[df_products['id'] == 1, 'category'] = 'Replaced Category'\n",
    "df_products.loc[df_products['id'] == 1, 'description'] = 'This dummy product has been replaced.'\n",
    "df_products.loc[df_products['id'] == 1, 'image'] = 'http://example.com/replaced_dummy.jpg'"
   ]
  },
  {
   "cell_type": "code",
   "execution_count": 16,
   "metadata": {},
   "outputs": [],
   "source": [
    "df_products = df_products.drop(columns=['rating'], errors='ignore')\n",
    "products_dict = df_products.to_dict('records')"
   ]
  },
  {
   "cell_type": "code",
   "execution_count": 17,
   "metadata": {},
   "outputs": [
    {
     "data": {
      "text/plain": [
       "[<Product: Replaced Dummy Product>,\n",
       " <Product: Mens Casual Premium Slim Fit T-Shirts >,\n",
       " <Product: Mens Cotton Jacket>,\n",
       " <Product: Mens Casual Slim Fit>,\n",
       " <Product: John Hardy Women's Legends Naga Gold & Silver Dragon Station Chain Bracelet>,\n",
       " <Product: Solid Gold Petite Micropave >,\n",
       " <Product: White Gold Plated Princess>,\n",
       " <Product: Pierced Owl Rose Gold Plated Stainless Steel Double>,\n",
       " <Product: WD 2TB Elements Portable External Hard Drive - USB 3.0 >,\n",
       " <Product: SanDisk SSD PLUS 1TB Internal SSD - SATA III 6 Gb/s>,\n",
       " <Product: Silicon Power 256GB SSD 3D NAND A55 SLC Cache Performance Boost SATA III 2.5>,\n",
       " <Product: WD 4TB Gaming Drive Works with Playstation 4 Portable External Hard Drive>,\n",
       " <Product: Acer SB220Q bi 21.5 inches Full HD (1920 x 1080) IPS Ultra-Thin>,\n",
       " <Product: Samsung 49-Inch CHG90 144Hz Curved Gaming Monitor (LC49HG90DMNXZA) – Super Ultrawide Screen QLED >,\n",
       " <Product: BIYLACLESEN Women's 3-in-1 Snowboard Jacket Winter Coats>,\n",
       " <Product: Lock and Love Women's Removable Hooded Faux Leather Moto Biker Jacket>,\n",
       " <Product: Rain Jacket Women Windbreaker Striped Climbing Raincoats>,\n",
       " <Product: MBJ Women's Solid Short Sleeve Boat Neck V >,\n",
       " <Product: Opna Women's Short Sleeve Moisture>,\n",
       " <Product: DANVOUY Womens T Shirt Casual Cotton Short>]"
      ]
     },
     "execution_count": 17,
     "metadata": {},
     "output_type": "execute_result"
    }
   ],
   "source": [
    "Product.objects.bulk_create(\n",
    "    [Product(**vals) for vals in products_dict],\n",
    "    batch_size=1000,\n",
    "    ignore_conflicts=True\n",
    ")"
   ]
  },
  {
   "cell_type": "code",
   "execution_count": 18,
   "metadata": {},
   "outputs": [
    {
     "name": "stdout",
     "output_type": "stream",
     "text": [
      "Total products in the database: 20\n"
     ]
    }
   ],
   "source": [
    "all_products = Product.objects.all()\n",
    "print(f'Total products in the database: {all_products.count()}')"
   ]
  },
  {
   "cell_type": "code",
   "execution_count": 19,
   "metadata": {},
   "outputs": [
    {
     "name": "stdout",
     "output_type": "stream",
     "text": [
      "First product: Dummy Product, Price: 0.00, Category: Dummy Category\n"
     ]
    }
   ],
   "source": [
    "first_product = all_products.first()\n",
    "print(f'First product: {first_product.title}, Price: {first_product.price}, Category: {first_product.category}')"
   ]
  }
 ],
 "metadata": {
  "kernelspec": {
   "display_name": "env_3.11.5",
   "language": "python",
   "name": "python3"
  },
  "language_info": {
   "codemirror_mode": {
    "name": "ipython",
    "version": 3
   },
   "file_extension": ".py",
   "mimetype": "text/x-python",
   "name": "python",
   "nbconvert_exporter": "python",
   "pygments_lexer": "ipython3",
   "version": "3.11.5"
  },
  "orig_nbformat": 4
 },
 "nbformat": 4,
 "nbformat_minor": 2
}
